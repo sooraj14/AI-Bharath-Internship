{
 "cells": [
  {
   "cell_type": "code",
   "execution_count": 1,
   "id": "ba27a929",
   "metadata": {},
   "outputs": [
    {
     "name": "stdout",
     "output_type": "stream",
     "text": [
      "Enter the word: appulle\n",
      "Entered word is : appulle\n",
      "Closest word: apple\n"
     ]
    }
   ],
   "source": [
    "import numpy as np\n",
    "\n",
    "def auto_correct(word, word_list):\n",
    "    distances = []\n",
    "    for w in word_list:\n",
    "        distances.append(levenshtein_distance(word, w))\n",
    "    min_distance = np.min(distances)\n",
    "    closest_word = word_list[np.argmin(distances)]\n",
    "    return closest_word\n",
    "\n",
    "def levenshtein_distance(s, t):\n",
    "    if s == t:\n",
    "        return 0\n",
    "    if len(s) == 0:\n",
    "        return len(t)\n",
    "    if len(t) == 0:\n",
    "        return len(s)\n",
    "    \n",
    "    m = len(s) + 1\n",
    "    n = len(t) + 1\n",
    "    matrix = np.zeros((m, n))\n",
    "    \n",
    "    for i in range(m):\n",
    "        matrix[i, 0] = i\n",
    "    for j in range(n):\n",
    "        matrix[0, j] = j\n",
    "    \n",
    "    for j in range(1, n):\n",
    "        for i in range(1, m):\n",
    "            if s[i-1] == t[j-1]:\n",
    "                matrix[i, j] = matrix[i-1, j-1]\n",
    "            else:\n",
    "                matrix[i, j] = min(\n",
    "                    matrix[i-1, j] + 1,        # deletion\n",
    "                    matrix[i, j-1] + 1,        # insertion\n",
    "                    matrix[i-1, j-1] + 1      # substitution\n",
    "                )\n",
    "    \n",
    "    return int(matrix[m-1, n-1])\n",
    "\n",
    "# Example usage\n",
    "word_list = [\"apple\", \"banana\", \"cherry\", \"date\", \"elderberry\"]\n",
    "word = input(\"Enter the word: \")\n",
    "\n",
    "closest_word = auto_correct(word, word_list)\n",
    "print(\"Entered word is :\", word)\n",
    "print(\"Closest word:\", closest_word)\n"
   ]
  },
  {
   "cell_type": "code",
   "execution_count": null,
   "id": "9f51b944",
   "metadata": {},
   "outputs": [],
   "source": []
  },
  {
   "cell_type": "code",
   "execution_count": null,
   "id": "a35c934f",
   "metadata": {},
   "outputs": [],
   "source": []
  }
 ],
 "metadata": {
  "kernelspec": {
   "display_name": "Python 3 (ipykernel)",
   "language": "python",
   "name": "python3"
  },
  "language_info": {
   "codemirror_mode": {
    "name": "ipython",
    "version": 3
   },
   "file_extension": ".py",
   "mimetype": "text/x-python",
   "name": "python",
   "nbconvert_exporter": "python",
   "pygments_lexer": "ipython3",
   "version": "3.10.9"
  }
 },
 "nbformat": 4,
 "nbformat_minor": 5
}
