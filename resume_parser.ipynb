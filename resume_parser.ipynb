{
 "cells": [
  {
   "cell_type": "code",
   "execution_count": 1,
   "id": "552b4535",
   "metadata": {},
   "outputs": [
    {
     "name": "stdout",
     "output_type": "stream",
     "text": [
      "Best candidate for the job:\n",
      "Name: Michael\n",
      "Skills: python, machine learning, communication skills\n",
      "Experience: 2 years\n",
      "Communication Skills: excellent\n"
     ]
    },
    {
     "name": "stderr",
     "output_type": "stream",
     "text": [
      "[nltk_data] Downloading package punkt to\n",
      "[nltk_data]     C:\\Users\\91948\\AppData\\Roaming\\nltk_data...\n",
      "[nltk_data]   Package punkt is already up-to-date!\n"
     ]
    }
   ],
   "source": [
    "import nltk\n",
    "\n",
    "def calculate_score(job_requirements, candidate_skills):\n",
    "    match_count = sum(1 for word in job_requirements if word in candidate_skills)\n",
    "    return match_count\n",
    "\n",
    "def find_best_candidate(job_requirements, candidate_profiles):\n",
    "    best_candidate = None\n",
    "    best_score = 0\n",
    "\n",
    "    for candidate in candidate_profiles:\n",
    "        candidate_skills = candidate['skills']\n",
    "        score = calculate_score(job_requirements, candidate_skills)\n",
    "        if score > best_score:\n",
    "            best_candidate = candidate\n",
    "            best_score = score\n",
    "\n",
    "    return best_candidate\n",
    "\n",
    "def print_candidate(candidate):\n",
    "    if candidate:\n",
    "        print(\"Best candidate for the job:\")\n",
    "        print(f\"Name: {candidate['name']}\")\n",
    "        print(f\"Skills: {', '.join(candidate['skills'])}\")\n",
    "        print(f\"Experience: {candidate['experience']} years\")\n",
    "        print(f\"Communication Skills: {candidate['communication_skills']}\")\n",
    "    else:\n",
    "        print(\"No suitable candidates found.\")\n",
    "\n",
    "def main():\n",
    "    # Define job requirements and candidate profiles\n",
    "    job_requirements = ['python', 'machine learning', 'communication skills']\n",
    "    candidate_profiles = [\n",
    "        {\n",
    "            'name': 'John',\n",
    "            'skills': ['python', 'data analysis', 'problem-solving'],\n",
    "            'experience': 3,\n",
    "            'communication_skills': 'excellent'\n",
    "        },\n",
    "        {\n",
    "            'name': 'Emily',\n",
    "            'skills': ['python', 'machine learning', 'data visualization'],\n",
    "            'experience': 5,\n",
    "            'communication_skills': 'good'\n",
    "        },\n",
    "        {\n",
    "            'name': 'Michael',\n",
    "            'skills': ['python', 'machine learning', 'communication skills'],\n",
    "            'experience': 2,\n",
    "            'communication_skills': 'excellent'\n",
    "        }\n",
    "    ]\n",
    "\n",
    "    # Prepare NLTK\n",
    "    nltk.download('punkt')  # Download required NLTK resources\n",
    "\n",
    "    # Find the best candidate\n",
    "    best_candidate = find_best_candidate(job_requirements, candidate_profiles)\n",
    "\n",
    "    # Output the best candidate\n",
    "    print_candidate(best_candidate)\n",
    "\n",
    "if __name__ == \"__main__\":\n",
    "    main()\n"
   ]
  }
 ],
 "metadata": {
  "kernelspec": {
   "display_name": "Python 3 (ipykernel)",
   "language": "python",
   "name": "python3"
  },
  "language_info": {
   "codemirror_mode": {
    "name": "ipython",
    "version": 3
   },
   "file_extension": ".py",
   "mimetype": "text/x-python",
   "name": "python",
   "nbconvert_exporter": "python",
   "pygments_lexer": "ipython3",
   "version": "3.10.9"
  }
 },
 "nbformat": 4,
 "nbformat_minor": 5
}
